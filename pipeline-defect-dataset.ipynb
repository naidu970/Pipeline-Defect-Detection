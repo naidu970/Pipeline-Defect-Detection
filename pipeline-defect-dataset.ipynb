{
 "cells": [
  {
   "cell_type": "code",
   "execution_count": 1,
   "id": "96da08f8",
   "metadata": {
    "_cell_guid": "b1076dfc-b9ad-4769-8c92-a6c4dae69d19",
    "_uuid": "8f2839f25d086af736a60e9eeb907d3b93b6e0e5",
    "execution": {
     "iopub.execute_input": "2024-07-08T13:39:54.915436Z",
     "iopub.status.busy": "2024-07-08T13:39:54.914612Z",
     "iopub.status.idle": "2024-07-08T13:40:20.170926Z",
     "shell.execute_reply": "2024-07-08T13:40:20.169855Z"
    },
    "papermill": {
     "duration": 25.26486,
     "end_time": "2024-07-08T13:40:20.173957",
     "exception": false,
     "start_time": "2024-07-08T13:39:54.909097",
     "status": "completed"
    },
    "tags": []
   },
   "outputs": [],
   "source": [
    "!pip install ultralytics -q\n",
    "import numpy as np\n",
    "import matplotlib.pyplot as plt\n",
    "import pandas as pd\n",
    "import os\n",
    "import shutil\n",
    "import tqdm\n",
    "from ultralytics import YOLO\n",
    "import cv2\n",
    "from ultralytics import YOLO\n",
    "from sklearn.model_selection import train_test_split\n",
    "import yaml"
   ]
  },
  {
   "cell_type": "code",
   "execution_count": 2,
   "id": "be63b75b",
   "metadata": {
    "execution": {
     "iopub.execute_input": "2024-07-08T13:40:20.182756Z",
     "iopub.status.busy": "2024-07-08T13:40:20.182200Z",
     "iopub.status.idle": "2024-07-08T13:40:20.189525Z",
     "shell.execute_reply": "2024-07-08T13:40:20.188469Z"
    },
    "papermill": {
     "duration": 0.014393,
     "end_time": "2024-07-08T13:40:20.191945",
     "exception": false,
     "start_time": "2024-07-08T13:40:20.177552",
     "status": "completed"
    },
    "tags": []
   },
   "outputs": [],
   "source": [
    "os.mkdir('/kaggle/working/data')\n",
    "os.mkdir('/kaggle/working/data/train')\n",
    "os.mkdir('/kaggle/working/data/val')\n",
    "os.mkdir('/kaggle/working/data/train/images')\n",
    "os.mkdir('/kaggle/working/data/val/images')\n",
    "os.mkdir('/kaggle/working/data/train/labels')\n",
    "os.mkdir('/kaggle/working/data/val/labels')"
   ]
  },
  {
   "cell_type": "code",
   "execution_count": 3,
   "id": "eb3c044d",
   "metadata": {
    "execution": {
     "iopub.execute_input": "2024-07-08T13:40:20.200683Z",
     "iopub.status.busy": "2024-07-08T13:40:20.199745Z",
     "iopub.status.idle": "2024-07-08T13:40:21.039555Z",
     "shell.execute_reply": "2024-07-08T13:40:21.038214Z"
    },
    "papermill": {
     "duration": 0.847197,
     "end_time": "2024-07-08T13:40:21.042454",
     "exception": false,
     "start_time": "2024-07-08T13:40:20.195257",
     "status": "completed"
    },
    "tags": []
   },
   "outputs": [],
   "source": [
    "dict_files = {i:j for i,j in enumerate(zip([os.path.join('/kaggle/input/pipeline-defect-dataset/images/images/train',k) for k in os.listdir('/kaggle/input/pipeline-defect-dataset/images/images/train')],[os.path.join('/kaggle/input/pipeline-defect-dataset/labels/labels/train',k) for k in os.listdir('/kaggle/input/pipeline-defect-dataset/labels/labels/train')]))}\n",
    "train_list, val_list = train_test_split(list(dict_files.keys()),test_size=0.1,shuffle=True,random_state=1)"
   ]
  },
  {
   "cell_type": "code",
   "execution_count": 4,
   "id": "e960f17a",
   "metadata": {
    "execution": {
     "iopub.execute_input": "2024-07-08T13:40:21.050769Z",
     "iopub.status.busy": "2024-07-08T13:40:21.050347Z",
     "iopub.status.idle": "2024-07-08T13:48:33.421194Z",
     "shell.execute_reply": "2024-07-08T13:48:33.419935Z"
    },
    "papermill": {
     "duration": 492.379077,
     "end_time": "2024-07-08T13:48:33.424840",
     "exception": false,
     "start_time": "2024-07-08T13:40:21.045763",
     "status": "completed"
    },
    "tags": []
   },
   "outputs": [
    {
     "name": "stderr",
     "output_type": "stream",
     "text": [
      "100%|██████████| 19908/19908 [07:47<00:00, 42.60it/s] \n",
      "100%|██████████| 2212/2212 [00:25<00:00, 88.42it/s]\n"
     ]
    }
   ],
   "source": [
    "for i in tqdm.tqdm(train_list):\n",
    "    shutil.copy(dict_files[i][0],'/kaggle/working/data/train/images')\n",
    "    shutil.copy(dict_files[i][1],'/kaggle/working/data/train/labels')\n",
    "for i in tqdm.tqdm(val_list):\n",
    "    shutil.copy(dict_files[i][0],'/kaggle/working/data/val/images')\n",
    "    shutil.copy(dict_files[i][1],'/kaggle/working/data/val/labels')"
   ]
  },
  {
   "cell_type": "code",
   "execution_count": 5,
   "id": "4d8d63d3",
   "metadata": {
    "execution": {
     "iopub.execute_input": "2024-07-08T13:48:34.088585Z",
     "iopub.status.busy": "2024-07-08T13:48:34.088152Z",
     "iopub.status.idle": "2024-07-08T13:48:34.098010Z",
     "shell.execute_reply": "2024-07-08T13:48:34.096547Z"
    },
    "papermill": {
     "duration": 0.343132,
     "end_time": "2024-07-08T13:48:34.101126",
     "exception": false,
     "start_time": "2024-07-08T13:48:33.757994",
     "status": "completed"
    },
    "tags": []
   },
   "outputs": [
    {
     "name": "stdout",
     "output_type": "stream",
     "text": [
      "YAML file saved successfully.\n"
     ]
    }
   ],
   "source": [
    "\n",
    "dataset_config = {\n",
    "    \"names\": {i: name for i, name in enumerate(['Deformation','Obstacle','Rupture','Disconnect', 'Misalignment', 'Deposition'])},\n",
    "    \"path\": f\"/kaggle/input/abcnaidu/data\",\n",
    "    \"train\": \"train/images\",\n",
    "    \"val\": \"val/images\"}\n",
    "yaml_file_path = f\"/kaggle/working/data/data.yaml\"\n",
    "with open(yaml_file_path, 'w') as yaml_file:\n",
    "    yaml.dump(dataset_config, yaml_file, default_flow_style=False)\n",
    "print(\"YAML file saved successfully.\")"
   ]
  },
  {
   "cell_type": "code",
   "execution_count": null,
   "id": "31ee5fac",
   "metadata": {
    "papermill": {
     "duration": 0.333413,
     "end_time": "2024-07-08T13:48:34.768995",
     "exception": false,
     "start_time": "2024-07-08T13:48:34.435582",
     "status": "completed"
    },
    "tags": []
   },
   "outputs": [],
   "source": []
  }
 ],
 "metadata": {
  "kaggle": {
   "accelerator": "none",
   "dataSources": [
    {
     "datasetId": 5294466,
     "sourceId": 8803591,
     "sourceType": "datasetVersion"
    }
   ],
   "dockerImageVersionId": 30732,
   "isGpuEnabled": false,
   "isInternetEnabled": true,
   "language": "python",
   "sourceType": "notebook"
  },
  "kernelspec": {
   "display_name": "Python 3",
   "language": "python",
   "name": "python3"
  },
  "language_info": {
   "codemirror_mode": {
    "name": "ipython",
    "version": 3
   },
   "file_extension": ".py",
   "mimetype": "text/x-python",
   "name": "python",
   "nbconvert_exporter": "python",
   "pygments_lexer": "ipython3",
   "version": "3.10.13"
  },
  "papermill": {
   "default_parameters": {},
   "duration": 524.623885,
   "end_time": "2024-07-08T13:48:36.393175",
   "environment_variables": {},
   "exception": null,
   "input_path": "__notebook__.ipynb",
   "output_path": "__notebook__.ipynb",
   "parameters": {},
   "start_time": "2024-07-08T13:39:51.769290",
   "version": "2.5.0"
  }
 },
 "nbformat": 4,
 "nbformat_minor": 5
}
