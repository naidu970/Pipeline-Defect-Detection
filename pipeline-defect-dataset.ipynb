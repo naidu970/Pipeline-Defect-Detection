{
 "cells": [
  {
   "cell_type": "code",
   "execution_count": 1,
   "id": "ecca28f9",
   "metadata": {
    "_cell_guid": "b1076dfc-b9ad-4769-8c92-a6c4dae69d19",
    "_uuid": "8f2839f25d086af736a60e9eeb907d3b93b6e0e5",
    "execution": {
     "iopub.execute_input": "2024-07-08T14:23:52.881975Z",
     "iopub.status.busy": "2024-07-08T14:23:52.881513Z",
     "iopub.status.idle": "2024-07-08T14:24:16.863536Z",
     "shell.execute_reply": "2024-07-08T14:24:16.862093Z"
    },
    "papermill": {
     "duration": 23.990986,
     "end_time": "2024-07-08T14:24:16.866497",
     "exception": false,
     "start_time": "2024-07-08T14:23:52.875511",
     "status": "completed"
    },
    "tags": []
   },
   "outputs": [],
   "source": [
    "!pip install ultralytics -q\n",
    "import numpy as np\n",
    "import matplotlib.pyplot as plt\n",
    "import pandas as pd\n",
    "import os\n",
    "import shutil\n",
    "import tqdm\n",
    "from ultralytics import YOLO\n",
    "import cv2\n",
    "from ultralytics import YOLO\n",
    "from sklearn.model_selection import train_test_split\n",
    "import yaml"
   ]
  },
  {
   "cell_type": "code",
   "execution_count": 2,
   "id": "5bf84229",
   "metadata": {
    "execution": {
     "iopub.execute_input": "2024-07-08T14:24:16.876039Z",
     "iopub.status.busy": "2024-07-08T14:24:16.874891Z",
     "iopub.status.idle": "2024-07-08T14:24:16.881703Z",
     "shell.execute_reply": "2024-07-08T14:24:16.880803Z"
    },
    "papermill": {
     "duration": 0.013684,
     "end_time": "2024-07-08T14:24:16.884073",
     "exception": false,
     "start_time": "2024-07-08T14:24:16.870389",
     "status": "completed"
    },
    "tags": []
   },
   "outputs": [],
   "source": [
    "os.mkdir('/kaggle/working/data')\n",
    "os.mkdir('/kaggle/working/data/train')\n",
    "os.mkdir('/kaggle/working/data/val')\n",
    "os.mkdir('/kaggle/working/data/train/images')\n",
    "os.mkdir('/kaggle/working/data/val/images')\n",
    "os.mkdir('/kaggle/working/data/train/labels')\n",
    "os.mkdir('/kaggle/working/data/val/labels')"
   ]
  },
  {
   "cell_type": "code",
   "execution_count": 3,
   "id": "215fba54",
   "metadata": {
    "execution": {
     "iopub.execute_input": "2024-07-08T14:24:16.892487Z",
     "iopub.status.busy": "2024-07-08T14:24:16.891605Z",
     "iopub.status.idle": "2024-07-08T14:24:17.498737Z",
     "shell.execute_reply": "2024-07-08T14:24:17.497699Z"
    },
    "papermill": {
     "duration": 0.61409,
     "end_time": "2024-07-08T14:24:17.501432",
     "exception": false,
     "start_time": "2024-07-08T14:24:16.887342",
     "status": "completed"
    },
    "tags": []
   },
   "outputs": [],
   "source": [
    "dict_files = {i:j for i,j in enumerate(zip([os.path.join('/kaggle/input/pipeline-defect-dataset/images/images/train',k) for k in os.listdir('/kaggle/input/pipeline-defect-dataset/images/images/train')],[os.path.join('/kaggle/input/pipeline-defect-dataset/labels/labels/train',k) for k in os.listdir('/kaggle/input/pipeline-defect-dataset/labels/labels/train')]))}\n",
    "train_list, val_list = train_test_split(list(dict_files.keys()),test_size=0.1,shuffle=True,random_state=1)"
   ]
  },
  {
   "cell_type": "code",
   "execution_count": 4,
   "id": "fed5fd93",
   "metadata": {
    "execution": {
     "iopub.execute_input": "2024-07-08T14:24:17.510050Z",
     "iopub.status.busy": "2024-07-08T14:24:17.509666Z",
     "iopub.status.idle": "2024-07-08T14:28:08.908443Z",
     "shell.execute_reply": "2024-07-08T14:28:08.907195Z"
    },
    "papermill": {
     "duration": 231.405979,
     "end_time": "2024-07-08T14:28:08.911160",
     "exception": false,
     "start_time": "2024-07-08T14:24:17.505181",
     "status": "completed"
    },
    "tags": []
   },
   "outputs": [
    {
     "name": "stderr",
     "output_type": "stream",
     "text": [
      "100%|██████████| 19908/19908 [03:28<00:00, 95.40it/s] \n",
      "100%|██████████| 2212/2212 [00:22<00:00, 97.48it/s]\n"
     ]
    }
   ],
   "source": [
    "for i in tqdm.tqdm(train_list):\n",
    "    shutil.copy(dict_files[i][0],'/kaggle/working/data/train/images')\n",
    "    shutil.copy(dict_files[i][1],'/kaggle/working/data/train/labels')\n",
    "for i in tqdm.tqdm(val_list):\n",
    "    shutil.copy(dict_files[i][0],'/kaggle/working/data/val/images')\n",
    "    shutil.copy(dict_files[i][1],'/kaggle/working/data/val/labels')"
   ]
  },
  {
   "cell_type": "code",
   "execution_count": 5,
   "id": "79ffb6ae",
   "metadata": {
    "execution": {
     "iopub.execute_input": "2024-07-08T14:28:09.336831Z",
     "iopub.status.busy": "2024-07-08T14:28:09.336425Z",
     "iopub.status.idle": "2024-07-08T14:28:09.346195Z",
     "shell.execute_reply": "2024-07-08T14:28:09.345055Z"
    },
    "papermill": {
     "duration": 0.231408,
     "end_time": "2024-07-08T14:28:09.348552",
     "exception": false,
     "start_time": "2024-07-08T14:28:09.117144",
     "status": "completed"
    },
    "tags": []
   },
   "outputs": [
    {
     "name": "stdout",
     "output_type": "stream",
     "text": [
      "YAML file saved successfully.\n"
     ]
    }
   ],
   "source": [
    "\n",
    "dataset_config = {\n",
    "    \"names\": {i: name for i, name in enumerate(['Deformation','Obstacle','Rupture','Disconnect', 'Misalignment', 'Deposition'])},\n",
    "    \"path\": f\"/kaggle/input/pipeline-defect-dataset/data\",\n",
    "    \"train\": \"train/images\",\n",
    "    \"val\": \"val/images\"}\n",
    "yaml_file_path = f\"/kaggle/working/data/data.yaml\"\n",
    "with open(yaml_file_path, 'w') as yaml_file:\n",
    "    yaml.dump(dataset_config, yaml_file, default_flow_style=False)\n",
    "print(\"YAML file saved successfully.\")"
   ]
  },
  {
   "cell_type": "code",
   "execution_count": null,
   "id": "c5ac670f",
   "metadata": {
    "papermill": {
     "duration": 0.198751,
     "end_time": "2024-07-08T14:28:09.761229",
     "exception": false,
     "start_time": "2024-07-08T14:28:09.562478",
     "status": "completed"
    },
    "tags": []
   },
   "outputs": [],
   "source": []
  },
  {
   "cell_type": "code",
   "execution_count": null,
   "id": "0ac58959",
   "metadata": {
    "papermill": {
     "duration": 0.199489,
     "end_time": "2024-07-08T14:28:10.158024",
     "exception": false,
     "start_time": "2024-07-08T14:28:09.958535",
     "status": "completed"
    },
    "tags": []
   },
   "outputs": [],
   "source": []
  }
 ],
 "metadata": {
  "kaggle": {
   "accelerator": "none",
   "dataSources": [
    {
     "datasetId": 5294466,
     "sourceId": 8803591,
     "sourceType": "datasetVersion"
    }
   ],
   "dockerImageVersionId": 30732,
   "isGpuEnabled": false,
   "isInternetEnabled": true,
   "language": "python",
   "sourceType": "notebook"
  },
  "kernelspec": {
   "display_name": "Python 3",
   "language": "python",
   "name": "python3"
  },
  "language_info": {
   "codemirror_mode": {
    "name": "ipython",
    "version": 3
   },
   "file_extension": ".py",
   "mimetype": "text/x-python",
   "name": "python",
   "nbconvert_exporter": "python",
   "pygments_lexer": "ipython3",
   "version": "3.10.13"
  },
  "papermill": {
   "default_parameters": {},
   "duration": 261.62125,
   "end_time": "2024-07-08T14:28:11.480574",
   "environment_variables": {},
   "exception": null,
   "input_path": "__notebook__.ipynb",
   "output_path": "__notebook__.ipynb",
   "parameters": {},
   "start_time": "2024-07-08T14:23:49.859324",
   "version": "2.5.0"
  }
 },
 "nbformat": 4,
 "nbformat_minor": 5
}
