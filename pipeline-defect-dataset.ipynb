{
 "cells": [
  {
   "cell_type": "code",
   "execution_count": 1,
   "id": "c8c7c7cd",
   "metadata": {
    "_cell_guid": "b1076dfc-b9ad-4769-8c92-a6c4dae69d19",
    "_uuid": "8f2839f25d086af736a60e9eeb907d3b93b6e0e5",
    "execution": {
     "iopub.execute_input": "2024-07-08T15:10:04.325134Z",
     "iopub.status.busy": "2024-07-08T15:10:04.324115Z",
     "iopub.status.idle": "2024-07-08T15:10:25.045705Z",
     "shell.execute_reply": "2024-07-08T15:10:25.044698Z"
    },
    "papermill": {
     "duration": 20.728864,
     "end_time": "2024-07-08T15:10:25.048316",
     "exception": false,
     "start_time": "2024-07-08T15:10:04.319452",
     "status": "completed"
    },
    "tags": []
   },
   "outputs": [],
   "source": [
    "!pip install ultralytics -q\n",
    "import numpy as np\n",
    "import matplotlib.pyplot as plt\n",
    "import pandas as pd\n",
    "import os\n",
    "import shutil\n",
    "import tqdm\n",
    "from ultralytics import YOLO\n",
    "import cv2\n",
    "from ultralytics import YOLO\n",
    "from sklearn.model_selection import train_test_split\n",
    "import yaml"
   ]
  },
  {
   "cell_type": "code",
   "execution_count": 2,
   "id": "25a48c88",
   "metadata": {
    "execution": {
     "iopub.execute_input": "2024-07-08T15:10:25.056018Z",
     "iopub.status.busy": "2024-07-08T15:10:25.054783Z",
     "iopub.status.idle": "2024-07-08T15:10:25.061029Z",
     "shell.execute_reply": "2024-07-08T15:10:25.060233Z"
    },
    "papermill": {
     "duration": 0.011936,
     "end_time": "2024-07-08T15:10:25.063075",
     "exception": false,
     "start_time": "2024-07-08T15:10:25.051139",
     "status": "completed"
    },
    "tags": []
   },
   "outputs": [],
   "source": [
    "os.mkdir('/kaggle/working/data')\n",
    "os.mkdir('/kaggle/working/data/train')\n",
    "os.mkdir('/kaggle/working/data/val')\n",
    "os.mkdir('/kaggle/working/data/train/images')\n",
    "os.mkdir('/kaggle/working/data/val/images')\n",
    "os.mkdir('/kaggle/working/data/train/labels')\n",
    "os.mkdir('/kaggle/working/data/val/labels')"
   ]
  },
  {
   "cell_type": "code",
   "execution_count": 3,
   "id": "a1406532",
   "metadata": {
    "execution": {
     "iopub.execute_input": "2024-07-08T15:10:25.069837Z",
     "iopub.status.busy": "2024-07-08T15:10:25.069201Z",
     "iopub.status.idle": "2024-07-08T15:10:25.901960Z",
     "shell.execute_reply": "2024-07-08T15:10:25.900703Z"
    },
    "papermill": {
     "duration": 0.838911,
     "end_time": "2024-07-08T15:10:25.904495",
     "exception": false,
     "start_time": "2024-07-08T15:10:25.065584",
     "status": "completed"
    },
    "tags": []
   },
   "outputs": [],
   "source": [
    "dict_files = {i:j for i,j in enumerate(zip([os.path.join('/kaggle/input/pipeline-defect-dataset/images/images/train',k) for k in os.listdir('/kaggle/input/pipeline-defect-dataset/images/images/train')],[os.path.join('/kaggle/input/pipeline-defect-dataset/labels/labels/train',k) for k in os.listdir('/kaggle/input/pipeline-defect-dataset/labels/labels/train')]))}\n",
    "train_list, val_list = train_test_split(list(dict_files.keys()),test_size=0.1,shuffle=True,random_state=1)"
   ]
  },
  {
   "cell_type": "code",
   "execution_count": 4,
   "id": "d028163e",
   "metadata": {
    "execution": {
     "iopub.execute_input": "2024-07-08T15:10:25.911395Z",
     "iopub.status.busy": "2024-07-08T15:10:25.910632Z",
     "iopub.status.idle": "2024-07-08T15:13:25.997641Z",
     "shell.execute_reply": "2024-07-08T15:13:25.996428Z"
    },
    "papermill": {
     "duration": 180.092969,
     "end_time": "2024-07-08T15:13:26.000009",
     "exception": false,
     "start_time": "2024-07-08T15:10:25.907040",
     "status": "completed"
    },
    "tags": []
   },
   "outputs": [
    {
     "name": "stderr",
     "output_type": "stream",
     "text": [
      "100%|██████████| 19908/19908 [02:42<00:00, 122.67it/s]\n",
      "100%|██████████| 2212/2212 [00:17<00:00, 124.42it/s]\n"
     ]
    }
   ],
   "source": [
    "for i in tqdm.tqdm(train_list):\n",
    "    shutil.copy(dict_files[i][0],'/kaggle/working/data/train/images')\n",
    "    shutil.copy(dict_files[i][1],'/kaggle/working/data/train/labels')\n",
    "for i in tqdm.tqdm(val_list):\n",
    "    shutil.copy(dict_files[i][0],'/kaggle/working/data/val/images')\n",
    "    shutil.copy(dict_files[i][1],'/kaggle/working/data/val/labels')"
   ]
  },
  {
   "cell_type": "code",
   "execution_count": 5,
   "id": "a3d6ce2a",
   "metadata": {
    "execution": {
     "iopub.execute_input": "2024-07-08T15:13:26.282766Z",
     "iopub.status.busy": "2024-07-08T15:13:26.281839Z",
     "iopub.status.idle": "2024-07-08T15:13:26.290400Z",
     "shell.execute_reply": "2024-07-08T15:13:26.289397Z"
    },
    "papermill": {
     "duration": 0.188334,
     "end_time": "2024-07-08T15:13:26.292580",
     "exception": false,
     "start_time": "2024-07-08T15:13:26.104246",
     "status": "completed"
    },
    "tags": []
   },
   "outputs": [
    {
     "name": "stdout",
     "output_type": "stream",
     "text": [
      "YAML file saved successfully.\n"
     ]
    }
   ],
   "source": [
    "\n",
    "dataset_config = {\n",
    "    \"names\": {i: name for i, name in enumerate(['Deformation','Obstacle','Rupture','Disconnect', 'Misalignment', 'Deposition'])},\n",
    "    \"path\": f\"/kaggle/input/pipeline-defect-dataset-data/data\",\n",
    "    \"train\": \"train/images\",\n",
    "    \"val\": \"val/images\"}\n",
    "yaml_file_path = f\"/kaggle/working/data/data.yaml\"\n",
    "with open(yaml_file_path, 'w') as yaml_file:\n",
    "    yaml.dump(dataset_config, yaml_file, default_flow_style=False)\n",
    "print(\"YAML file saved successfully.\")"
   ]
  },
  {
   "cell_type": "code",
   "execution_count": null,
   "id": "8ae3da1a",
   "metadata": {
    "papermill": {
     "duration": 0.105582,
     "end_time": "2024-07-08T15:13:26.505208",
     "exception": false,
     "start_time": "2024-07-08T15:13:26.399626",
     "status": "completed"
    },
    "tags": []
   },
   "outputs": [],
   "source": []
  },
  {
   "cell_type": "code",
   "execution_count": null,
   "id": "fe5067de",
   "metadata": {
    "papermill": {
     "duration": 0.108381,
     "end_time": "2024-07-08T15:13:26.721701",
     "exception": false,
     "start_time": "2024-07-08T15:13:26.613320",
     "status": "completed"
    },
    "tags": []
   },
   "outputs": [],
   "source": []
  }
 ],
 "metadata": {
  "kaggle": {
   "accelerator": "none",
   "dataSources": [
    {
     "datasetId": 5294466,
     "sourceId": 8803591,
     "sourceType": "datasetVersion"
    }
   ],
   "dockerImageVersionId": 30732,
   "isGpuEnabled": false,
   "isInternetEnabled": true,
   "language": "python",
   "sourceType": "notebook"
  },
  "kernelspec": {
   "display_name": "Python 3",
   "language": "python",
   "name": "python3"
  },
  "language_info": {
   "codemirror_mode": {
    "name": "ipython",
    "version": 3
   },
   "file_extension": ".py",
   "mimetype": "text/x-python",
   "name": "python",
   "nbconvert_exporter": "python",
   "pygments_lexer": "ipython3",
   "version": "3.10.13"
  },
  "papermill": {
   "default_parameters": {},
   "duration": 206.352278,
   "end_time": "2024-07-08T15:13:27.954143",
   "environment_variables": {},
   "exception": null,
   "input_path": "__notebook__.ipynb",
   "output_path": "__notebook__.ipynb",
   "parameters": {},
   "start_time": "2024-07-08T15:10:01.601865",
   "version": "2.5.0"
  }
 },
 "nbformat": 4,
 "nbformat_minor": 5
}
